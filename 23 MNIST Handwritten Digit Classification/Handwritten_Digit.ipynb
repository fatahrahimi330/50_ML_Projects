{
 "cells": [
  {
   "cell_type": "markdown",
   "id": "6bafa1b4-1cef-4526-972c-0c3f83b85f13",
   "metadata": {},
   "source": [
    "# MNIST Handwritten Digit Classification"
   ]
  },
  {
   "cell_type": "markdown",
   "id": "8c008d90-0ca2-49ec-bee4-18c7b854a10a",
   "metadata": {},
   "source": [
    "## Importing the Dependencies"
   ]
  },
  {
   "cell_type": "code",
   "execution_count": 1,
   "id": "9a7818d1-21a1-4a7e-9ad8-d99cd939216a",
   "metadata": {},
   "outputs": [],
   "source": [
    "import numpy as np\n",
    "import matplotlib.pyplot as plt\n",
    "import seaborn as sns"
   ]
  },
  {
   "cell_type": "markdown",
   "id": "b8a9df7e-e491-4379-b1e2-9845ece9bd3e",
   "metadata": {},
   "source": [
    "## Loading the MNIST data from keras.datasets"
   ]
  },
  {
   "cell_type": "code",
   "execution_count": 2,
   "id": "cafc865e-4df7-48ea-ab49-22050ade633d",
   "metadata": {},
   "outputs": [
    {
     "name": "stdout",
     "output_type": "stream",
     "text": [
      "Downloading data from https://storage.googleapis.com/tensorflow/tf-keras-datasets/mnist.npz\n",
      "\u001b[1m11490434/11490434\u001b[0m \u001b[32m━━━━━━━━━━━━━━━━━━━━\u001b[0m\u001b[37m\u001b[0m \u001b[1m2s\u001b[0m 0us/step \n"
     ]
    }
   ],
   "source": [
    "from keras.datasets import mnist\n",
    "(X_train, Y_train), (X_test, Y_test) =  mnist.load_data()"
   ]
  },
  {
   "cell_type": "markdown",
   "id": "933bec0e-4501-421b-9a2e-2e3ef112d4b2",
   "metadata": {},
   "source": [
    "## scaling the values"
   ]
  },
  {
   "cell_type": "code",
   "execution_count": 3,
   "id": "9039821b-09fe-4740-9155-753aad33071e",
   "metadata": {},
   "outputs": [],
   "source": [
    "X_train = X_train/255\n",
    "X_test = X_test/255"
   ]
  },
  {
   "cell_type": "markdown",
   "id": "c929ed4a-235b-4492-bc76-c31d18e5b371",
   "metadata": {},
   "source": [
    "## Building the Neural Network"
   ]
  },
  {
   "cell_type": "code",
   "execution_count": 5,
   "id": "668b9056-24b2-469b-a506-fe7d35438687",
   "metadata": {},
   "outputs": [
    {
     "name": "stderr",
     "output_type": "stream",
     "text": [
      "C:\\Users\\DELL\\AppData\\Roaming\\Python\\Python313\\site-packages\\keras\\src\\layers\\reshaping\\flatten.py:37: UserWarning: Do not pass an `input_shape`/`input_dim` argument to a layer. When using Sequential models, prefer using an `Input(shape)` object as the first layer in the model instead.\n",
      "  super().__init__(**kwargs)\n"
     ]
    }
   ],
   "source": [
    "import tensorflow as tf\n",
    "model = tf.keras.Sequential([\n",
    "                          tf.keras.layers.Flatten(input_shape=(28,28)),\n",
    "                          tf.keras.layers.Dense(50, activation='relu'),\n",
    "                          tf.keras.layers.Dense(50, activation='relu'),\n",
    "                          tf.keras.layers.Dense(10, activation='sigmoid')\n",
    "])"
   ]
  },
  {
   "cell_type": "code",
   "execution_count": 6,
   "id": "bbc46534-d94d-465c-a774-647140250756",
   "metadata": {},
   "outputs": [],
   "source": [
    "model.compile(optimizer='adam',\n",
    "              loss = 'sparse_categorical_crossentropy',\n",
    "              metrics=['accuracy'])"
   ]
  },
  {
   "cell_type": "markdown",
   "id": "9b08242a-6cbb-43d2-be4a-6b851bd70844",
   "metadata": {},
   "source": [
    "## training the Neural Network"
   ]
  },
  {
   "cell_type": "code",
   "execution_count": 7,
   "id": "6e4aa948-47fb-448c-8eb2-b7adf98b0f2a",
   "metadata": {},
   "outputs": [
    {
     "name": "stdout",
     "output_type": "stream",
     "text": [
      "Epoch 1/10\n",
      "\u001b[1m1875/1875\u001b[0m \u001b[32m━━━━━━━━━━━━━━━━━━━━\u001b[0m\u001b[37m\u001b[0m \u001b[1m4s\u001b[0m 2ms/step - accuracy: 0.9142 - loss: 0.2957\n",
      "Epoch 2/10\n",
      "\u001b[1m1875/1875\u001b[0m \u001b[32m━━━━━━━━━━━━━━━━━━━━\u001b[0m\u001b[37m\u001b[0m \u001b[1m3s\u001b[0m 2ms/step - accuracy: 0.9586 - loss: 0.1369\n",
      "Epoch 3/10\n",
      "\u001b[1m1875/1875\u001b[0m \u001b[32m━━━━━━━━━━━━━━━━━━━━\u001b[0m\u001b[37m\u001b[0m \u001b[1m2s\u001b[0m 1ms/step - accuracy: 0.9683 - loss: 0.1037\n",
      "Epoch 4/10\n",
      "\u001b[1m1875/1875\u001b[0m \u001b[32m━━━━━━━━━━━━━━━━━━━━\u001b[0m\u001b[37m\u001b[0m \u001b[1m3s\u001b[0m 1ms/step - accuracy: 0.9744 - loss: 0.0839\n",
      "Epoch 5/10\n",
      "\u001b[1m1875/1875\u001b[0m \u001b[32m━━━━━━━━━━━━━━━━━━━━\u001b[0m\u001b[37m\u001b[0m \u001b[1m3s\u001b[0m 1ms/step - accuracy: 0.9789 - loss: 0.0695\n",
      "Epoch 6/10\n",
      "\u001b[1m1875/1875\u001b[0m \u001b[32m━━━━━━━━━━━━━━━━━━━━\u001b[0m\u001b[37m\u001b[0m \u001b[1m3s\u001b[0m 1ms/step - accuracy: 0.9819 - loss: 0.0590\n",
      "Epoch 7/10\n",
      "\u001b[1m1875/1875\u001b[0m \u001b[32m━━━━━━━━━━━━━━━━━━━━\u001b[0m\u001b[37m\u001b[0m \u001b[1m3s\u001b[0m 1ms/step - accuracy: 0.9837 - loss: 0.0509\n",
      "Epoch 8/10\n",
      "\u001b[1m1875/1875\u001b[0m \u001b[32m━━━━━━━━━━━━━━━━━━━━\u001b[0m\u001b[37m\u001b[0m \u001b[1m3s\u001b[0m 1ms/step - accuracy: 0.9851 - loss: 0.0448\n",
      "Epoch 9/10\n",
      "\u001b[1m1875/1875\u001b[0m \u001b[32m━━━━━━━━━━━━━━━━━━━━\u001b[0m\u001b[37m\u001b[0m \u001b[1m3s\u001b[0m 1ms/step - accuracy: 0.9870 - loss: 0.0401\n",
      "Epoch 10/10\n",
      "\u001b[1m1875/1875\u001b[0m \u001b[32m━━━━━━━━━━━━━━━━━━━━\u001b[0m\u001b[37m\u001b[0m \u001b[1m3s\u001b[0m 1ms/step - accuracy: 0.9888 - loss: 0.0360\n"
     ]
    },
    {
     "data": {
      "text/plain": [
       "<keras.src.callbacks.history.History at 0x218736012b0>"
      ]
     },
     "execution_count": 7,
     "metadata": {},
     "output_type": "execute_result"
    }
   ],
   "source": [
    "model.fit(X_train, Y_train, epochs=10)"
   ]
  },
  {
   "cell_type": "markdown",
   "id": "cec84279-77d5-4c06-9720-072ea28dbf21",
   "metadata": {},
   "source": [
    "## Predicting the Test Result"
   ]
  },
  {
   "cell_type": "code",
   "execution_count": 8,
   "id": "7b13c768-fd81-444d-bdc3-d4394bf7a176",
   "metadata": {},
   "outputs": [
    {
     "name": "stdout",
     "output_type": "stream",
     "text": [
      "\u001b[1m313/313\u001b[0m \u001b[32m━━━━━━━━━━━━━━━━━━━━\u001b[0m\u001b[37m\u001b[0m \u001b[1m0s\u001b[0m 827us/step\n"
     ]
    }
   ],
   "source": [
    "Y_pred = model.predict(X_test)"
   ]
  },
  {
   "cell_type": "code",
   "execution_count": 11,
   "id": "387ea0d9-7cb7-4a4a-9ede-1aac4d6d1e78",
   "metadata": {},
   "outputs": [
    {
     "data": {
      "text/plain": [
       "<tf.Tensor: shape=(10, 10), dtype=int32, numpy=\n",
       "array([[ 964,    0,    0,    2,    0,    8,    2,    0,    2,    2],\n",
       "       [   0, 1128,    2,    0,    0,    1,    2,    1,    1,    0],\n",
       "       [   2,    3, 1009,    8,    2,    1,    1,    3,    3,    0],\n",
       "       [   0,    0,    5,  988,    0,    6,    0,    4,    2,    5],\n",
       "       [   1,    1,    8,    1,  956,    0,    3,    3,    1,    8],\n",
       "       [   2,    1,    0,   11,    2,  869,    5,    0,    1,    1],\n",
       "       [   4,    2,    2,    2,    9,    9,  928,    0,    1,    1],\n",
       "       [   0,    4,    8,    6,    1,    0,    0,  997,    0,   12],\n",
       "       [   5,    1,    6,   27,    3,   11,    4,    1,  909,    7],\n",
       "       [   1,    2,    0,    5,    7,    7,    1,    5,    0,  981]],\n",
       "      dtype=int32)>"
      ]
     },
     "execution_count": 11,
     "metadata": {},
     "output_type": "execute_result"
    }
   ],
   "source": [
    "from tensorflow.math import confusion_matrix\n",
    "Y_pred_labels = [np.argmax(i) for i in Y_pred]\n",
    "conf_mat = confusion_matrix(Y_test, Y_pred_labels)\n",
    "conf_mat"
   ]
  },
  {
   "cell_type": "code",
   "execution_count": 14,
   "id": "54dc7b3b-92c5-4933-9cb9-79c635dea74c",
   "metadata": {},
   "outputs": [
    {
     "data": {
      "text/plain": [
       "<matplotlib.image.AxesImage at 0x2181a7dcec0>"
      ]
     },
     "execution_count": 14,
     "metadata": {},
     "output_type": "execute_result"
    },
    {
     "data": {
      "image/png": "[encoded data removed]",
      "text/plain": [
       "<Figure size 640x480 with 1 Axes>"
      ]
     },
     "metadata": {},
     "output_type": "display_data"
    }
   ],
   "source": [
    "import cv2\n",
    "input_image = cv2.imread('MNIST_digit.png')\n",
    "plt.imshow(input_image)"
   ]
  },
  {
   "cell_type": "code",
   "execution_count": 18,
   "id": "c8b3f5f3-e44c-415b-b444-c07c8c49561a",
   "metadata": {},
   "outputs": [],
   "source": [
    "grayscale = cv2.cvtColor(input_image, cv2.COLOR_RGB2GRAY)\n",
    "input_image_resize = cv2.resize(grayscale, (28, 28))\n",
    "input_image_resize = input_image_resize/255\n",
    "image_reshaped = np.reshape(input_image_resize, [1,28,28])"
   ]
  },
  {
   "cell_type": "code",
   "execution_count": 20,
   "id": "e846d9b7-9ebd-4865-907e-710c205f4867",
   "metadata": {},
   "outputs": [
    {
     "name": "stdout",
     "output_type": "stream",
     "text": [
      "\u001b[1m1/1\u001b[0m \u001b[32m━━━━━━━━━━━━━━━━━━━━\u001b[0m\u001b[37m\u001b[0m \u001b[1m0s\u001b[0m 41ms/step\n",
      "3\n"
     ]
    }
   ],
   "source": [
    "input_prediction = model.predict(image_reshaped)\n",
    "input_pred_label = np.argmax(input_prediction)\n",
    "print(input_pred_label)"
   ]
  }
 ],
 "metadata": {
  "kernelspec": {
   "display_name": "Python 3 (ipykernel)",
   "language": "python",
   "name": "python3"
  },
  "language_info": {
   "codemirror_mode": {
    "name": "ipython",
    "version": 3
   },
   "file_extension": ".py",
   "mimetype": "text/x-python",
   "name": "python",
   "nbconvert_exporter": "python",
   "pygments_lexer": "ipython3",
   "version": "3.13.5"
  }
 },
 "nbformat": 4,
 "nbformat_minor": 5
}
